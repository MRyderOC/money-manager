{
 "cells": [
  {
   "cell_type": "code",
   "execution_count": 1,
   "metadata": {},
   "outputs": [],
   "source": [
    "import os\n",
    "import logging\n",
    "\n",
    "import pandas as pd\n",
    "\n",
    "from mymoney import MyData\n",
    "from mymoney import DataReader\n",
    "\n",
    "\n",
    "logging.basicConfig(\n",
    "    level=logging.INFO,\n",
    "    format=\"%(name)s\\t[%(asctime)s] %(levelname)s: %(message)s\",\n",
    "    datefmt=\"%b/%d/%y %I:%M:%S %p\",\n",
    "    # filename=\"logs.log\",\n",
    ")\n"
   ]
  },
  {
   "cell_type": "markdown",
   "metadata": {},
   "source": [
    "# Read CSVs and create an output"
   ]
  },
  {
   "cell_type": "markdown",
   "metadata": {},
   "source": [
    "## Single CSV\n"
   ]
  },
  {
   "cell_type": "code",
   "execution_count": null,
   "metadata": {},
   "outputs": [],
   "source": [
    "single_file_path = \"<PATH_TO_YOUR_CSV_FILE>\"\n",
    "\n",
    "dr = DataReader()\n",
    "single_inst_data = dr.read_csv_file(single_file_path)"
   ]
  },
  {
   "cell_type": "markdown",
   "metadata": {},
   "source": [
    "## A folder that contains CSVs"
   ]
  },
  {
   "cell_type": "code",
   "execution_count": null,
   "metadata": {},
   "outputs": [],
   "source": [
    "folder_path = \"<PATH_TO_THE_FOLDER_WHICH_CONTAINS_CSV_FILES>\"\n",
    "\n",
    "dr = DataReader()\n",
    "whole_out = dr.read_csv_folder(folder_path)\n",
    "\n",
    "# Print empty dfs\n",
    "empty_dfs_names = [\n",
    "    f\"{inst_data.institution_name}: {inst_data.account_name}\"\n",
    "    for inst_data in whole_out\n",
    "    if inst_data.output_df.empty\n",
    "]\n",
    "if empty_dfs_names:\n",
    "    print(\"EMPTY DFs:\")\n",
    "    print(\"\\n\".join(empty_dfs_names))\n",
    "\n",
    "whole_df = pd.concat([inst_data.output_df for inst_data in whole_out if not inst_data.output_df.empty], ignore_index=True)"
   ]
  },
  {
   "cell_type": "code",
   "execution_count": null,
   "metadata": {},
   "outputs": [],
   "source": [
    "# Write the CSV if needed\n",
    "output_csv_name = \"MY_NEW_CSV.csv\"\n",
    "whole_df.to_csv(output_csv_name, date_format=\"%Y-%m-%d\", index=False)"
   ]
  },
  {
   "cell_type": "markdown",
   "metadata": {},
   "source": [
    "# Read the proccessed data from the Google Sheets"
   ]
  },
  {
   "cell_type": "code",
   "execution_count": 2,
   "metadata": {},
   "outputs": [],
   "source": [
    "creds_path = \"<PATH_TO_YOUR_CREDS>\"\n",
    "sheet_name = \"<NAME_OF_GOOGLE_SPREADSHEET_TO_FETCH_THE_DATA_FROM>\"\n",
    "\n",
    "md = MyData(sheets_creds=creds_path, sheet_name=sheet_name)\n",
    "md.read_sheets()"
   ]
  },
  {
   "cell_type": "code",
   "execution_count": null,
   "metadata": {},
   "outputs": [],
   "source": [
    "md.expense_df"
   ]
  },
  {
   "cell_type": "code",
   "execution_count": null,
   "metadata": {},
   "outputs": [],
   "source": []
  }
 ],
 "metadata": {
  "kernelspec": {
   "display_name": "venv",
   "language": "python",
   "name": "python3"
  },
  "language_info": {
   "codemirror_mode": {
    "name": "ipython",
    "version": 3
   },
   "file_extension": ".py",
   "mimetype": "text/x-python",
   "name": "python",
   "nbconvert_exporter": "python",
   "pygments_lexer": "ipython3",
   "version": "3.10.12"
  },
  "orig_nbformat": 4
 },
 "nbformat": 4,
 "nbformat_minor": 2
}
